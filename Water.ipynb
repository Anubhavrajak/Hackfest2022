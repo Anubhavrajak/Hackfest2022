{
  "nbformat": 4,
  "nbformat_minor": 0,
  "metadata": {
    "colab": {
      "name": "Water.ipynb",
      "provenance": [],
      "collapsed_sections": [],
      "include_colab_link": true
    },
    "kernelspec": {
      "name": "python3",
      "display_name": "Python 3"
    },
    "language_info": {
      "name": "python"
    },
    "accelerator": "GPU"
  },
  "cells": [
    {
      "cell_type": "markdown",
      "metadata": {
        "id": "view-in-github",
        "colab_type": "text"
      },
      "source": [
        "<a href=\"https://colab.research.google.com/github/Anubhavrajak/Hackfest2022/blob/main/Water.ipynb\" target=\"_parent\"><img src=\"https://colab.research.google.com/assets/colab-badge.svg\" alt=\"Open In Colab\"/></a>"
      ]
    },
    {
      "cell_type": "code",
      "execution_count": null,
      "metadata": {
        "colab": {
          "base_uri": "https://localhost:8080/"
        },
        "id": "X22GttnY2ojH",
        "outputId": "8da85ee4-3753-4c2e-c41c-4e23251546e4"
      },
      "outputs": [
        {
          "output_type": "stream",
          "name": "stdout",
          "text": [
            "Reading package lists... Done\n",
            "Building dependency tree       \n",
            "Reading state information... Done\n",
            "libportaudio2 is already the newest version (19.6.0-1).\n",
            "The following packages were automatically installed and are no longer required:\n",
            "  libnvidia-common-460 nsight-compute-2020.2.0\n",
            "Use 'sudo apt autoremove' to remove them.\n",
            "0 upgraded, 0 newly installed, 0 to remove and 42 not upgraded.\n",
            "Requirement already satisfied: sounddevice in /usr/local/lib/python3.7/dist-packages (0.4.4)\n",
            "Requirement already satisfied: CFFI>=1.0 in /usr/local/lib/python3.7/dist-packages (from sounddevice) (1.15.0)\n",
            "Requirement already satisfied: pycparser in /usr/local/lib/python3.7/dist-packages (from CFFI>=1.0->sounddevice) (2.21)\n"
          ]
        }
      ],
      "source": [
        "import code\n",
        "import glob\n",
        "import os\n",
        "import librosa\n",
        "import numpy as np\n",
        "import matplotlib.pyplot as plt\n",
        "from matplotlib.pyplot import specgram\n",
        "import soundfile as sf\n",
        "!sudo apt-get install libportaudio2\n",
        "!pip install sounddevice\n",
        "import sounddevice as sd\n",
        "import queue\n",
        "import os"
      ]
    },
    {
      "cell_type": "code",
      "source": [
        "from google.colab import drive\n",
        "drive.mount('/content/drive')"
      ],
      "metadata": {
        "colab": {
          "base_uri": "https://localhost:8080/"
        },
        "id": "FCnCvGcQd2P3",
        "outputId": "f7f0a475-1b06-4cee-ccb9-5f23620d2db5"
      },
      "execution_count": null,
      "outputs": [
        {
          "output_type": "stream",
          "name": "stdout",
          "text": [
            "Drive already mounted at /content/drive; to attempt to forcibly remount, call drive.mount(\"/content/drive\", force_remount=True).\n"
          ]
        }
      ]
    },
    {
      "cell_type": "code",
      "source": [
        ""
      ],
      "metadata": {
        "id": "rmAYYkoi4WlN"
      },
      "execution_count": null,
      "outputs": []
    },
    {
      "cell_type": "code",
      "source": [
        "def extract_feature(file_name=None):\n",
        "    if file_name: \n",
        "        print('Extracting', file_name)\n",
        "        X, sample_rate = sf.read(file_name, dtype='float32')\n",
        "    else:  \n",
        "        device_info = sd.query_devices(None, 'input')\n",
        "        sample_rate = int(device_info['default_samplerate'])\n",
        "        q = queue.Queue()\n",
        "        def callback(i,f,t,s): q.put(i.copy())\n",
        "        data = []\n",
        "        with sd.InputStream(samplerate=sample_rate, callback=callback):\n",
        "            while True: \n",
        "                if len(data) < 100000: data.extend(q.get())\n",
        "                else: break\n",
        "        X = np.array(data)\n",
        "\n",
        "    if X.ndim > 1: X = X[:,0]\n",
        "    X = X.T\n",
        "\n",
        "    # short term fourier transform\n",
        "    stft = np.abs(librosa.stft(X))\n",
        "\n",
        "    # mfcc (mel-frequency cepstrum)\n",
        "    mfccs = np.mean(librosa.feature.mfcc(y=X, sr=8000, n_mfcc=40,fmin=30).T,axis=0)\n",
        "\n",
        "    # chroma\n",
        "    chroma = np.mean(librosa.feature.chroma_stft(S=stft, sr=8000).T,axis=0)\n",
        "\n",
        "    # melspectrogram\n",
        "    mel = np.mean(librosa.feature.melspectrogram(X, sr=8000,fmin=30).T,axis=0)\n",
        "\n",
        "    # spectral contrast\n",
        "    contrast = np.mean(librosa.feature.spectral_contrast(S=stft, sr=8000,fmin=30).T,axis=0)\n",
        "\n",
        "    tonnetz = np.mean(librosa.feature.tonnetz(y=librosa.effects.harmonic(X), sr=8000,fmin=30).T,axis=0)\n",
        "    return mfccs,chroma,mel,contrast,tonnetz\n"
      ],
      "metadata": {
        "id": "3i6jEqUr3yQN"
      },
      "execution_count": null,
      "outputs": []
    },
    {
      "cell_type": "code",
      "source": [
        "def parse_audio_files(parent_dir,file_ext='*.wav'):\n",
        "    sub_dirs = os.listdir(parent_dir)\n",
        "    sub_dirs.sort()\n",
        "    features, labels = np.empty((0,193)), np.empty(0)\n",
        "    for label, sub_dir in enumerate(sub_dirs):\n",
        "        if os.path.isdir(os.path.join(parent_dir, sub_dir)):\n",
        "            for fn in glob.glob(os.path.join(parent_dir, sub_dir, file_ext)):\n",
        "                try: mfccs, chroma, mel, contrast,tonnetz = extract_feature(fn)\n",
        "                except Exception as e:\n",
        "                    print(\"[Error] extract feature error in %s. %s\" % (fn,e))\n",
        "                    continue\n",
        "                ext_features = np.hstack([mfccs,chroma,mel,contrast,tonnetz])\n",
        "                features = np.vstack([features,ext_features])\n",
        "                # labels = np.append(labels, fn.split('/')[1])\n",
        "                labels = np.append(labels, label)\n",
        "            print(\"extract %s features done\" % (sub_dir))\n",
        "    return np.array(features), np.array(labels, dtype = np.int)"
      ],
      "metadata": {
        "id": "Q8afOMzU4PDd"
      },
      "execution_count": null,
      "outputs": []
    },
    {
      "cell_type": "code",
      "source": [
        "def parse_predict_files(parent_dir,file_ext='*.wav'):\n",
        "    features = np.empty((0,193))\n",
        "    filenames = []\n",
        "    for fn in glob.glob(os.path.join(parent_dir, file_ext)):\n",
        "        mfccs, chroma, mel, contrast,tonnetz = extract_feature(fn)\n",
        "        ext_features = np.hstack([mfccs,chroma,mel,contrast,tonnetz])\n",
        "        features = np.vstack([features,ext_features])\n",
        "        filenames.append(fn)\n",
        "        print(\"extract %s features done\" % fn)\n",
        "    return np.array(features), np.array(filenames)\n"
      ],
      "metadata": {
        "id": "1B8TIhoe4RF6"
      },
      "execution_count": null,
      "outputs": []
    },
    {
      "cell_type": "code",
      "source": [
        "features, labels = parse_audio_files('/content/drive/MyDrive/Water dataset')\n",
        "np.save('input.npy', features)\n",
        "np.save('target.npy', labels)\n"
      ],
      "metadata": {
        "id": "CfC0ZpvI4S1Z",
        "colab": {
          "base_uri": "https://localhost:8080/"
        },
        "outputId": "411698f6-6475-4028-9730-56c8b04e7ddf"
      },
      "execution_count": null,
      "outputs": [
        {
          "output_type": "stream",
          "name": "stdout",
          "text": [
            "Extracting /content/drive/MyDrive/Water dataset/Leak/008_12854-20180811.wav\n",
            "Extracting /content/drive/MyDrive/Water dataset/Leak/004_07573-20180817.wav\n",
            "Extracting /content/drive/MyDrive/Water dataset/Leak/006_07573-20180831.wav\n",
            "Extracting /content/drive/MyDrive/Water dataset/Leak/007_07573-20180905.wav\n",
            "Extracting /content/drive/MyDrive/Water dataset/Leak/005_07573-20180826.wav\n",
            "Extracting /content/drive/MyDrive/Water dataset/Leak/009_05494-20180810.wav\n",
            "Extracting /content/drive/MyDrive/Water dataset/Leak/003_05593-20180927.wav\n",
            "Extracting /content/drive/MyDrive/Water dataset/Leak/012_16174-20171130.wav\n",
            "Extracting /content/drive/MyDrive/Water dataset/Leak/011_05576-20171123.wav\n",
            "Extracting /content/drive/MyDrive/Water dataset/Leak/015_05557-20190321.wav\n",
            "Extracting /content/drive/MyDrive/Water dataset/Leak/016_12835-20180523.wav\n",
            "Extracting /content/drive/MyDrive/Water dataset/Leak/018_05569-20181002.wav\n",
            "Extracting /content/drive/MyDrive/Water dataset/Leak/019_05500-20180809.wav\n",
            "Extracting /content/drive/MyDrive/Water dataset/Leak/017_16178-20180423.wav\n",
            "Extracting /content/drive/MyDrive/Water dataset/Leak/020_16178-20180808.wav\n",
            "Extracting /content/drive/MyDrive/Water dataset/Leak/021_16196-20180813.wav\n",
            "Extracting /content/drive/MyDrive/Water dataset/Leak/013_12831-20170425.wav\n",
            "Extracting /content/drive/MyDrive/Water dataset/Leak/022_00263-20180605.wav\n",
            "Extracting /content/drive/MyDrive/Water dataset/Leak/024_05633-20190213.wav\n",
            "Extracting /content/drive/MyDrive/Water dataset/Leak/027_07646-20190213.wav\n",
            "Extracting /content/drive/MyDrive/Water dataset/Leak/032_21142-20190620.wav\n",
            "Extracting /content/drive/MyDrive/Water dataset/Leak/1.1.01.0330.wav\n",
            "Extracting /content/drive/MyDrive/Water dataset/Leak/1.1.02.0345.wav\n",
            "Extracting /content/drive/MyDrive/Water dataset/Leak/023_07578-20190218.wav\n",
            "Extracting /content/drive/MyDrive/Water dataset/Leak/1.1.03.0400.wav\n",
            "Extracting /content/drive/MyDrive/Water dataset/Leak/1.1.04.0415.wav\n",
            "Extracting /content/drive/MyDrive/Water dataset/Leak/1.2.01.0330.wav\n",
            "Extracting /content/drive/MyDrive/Water dataset/Leak/1.2.02.0345.wav\n",
            "Extracting /content/drive/MyDrive/Water dataset/Leak/1.2.03.0400.wav\n"
          ]
        },
        {
          "output_type": "stream",
          "name": "stderr",
          "text": [
            "/usr/local/lib/python3.7/dist-packages/librosa/core/pitch.py:153: UserWarning: Trying to estimate tuning from empty frequency set.\n",
            "  warnings.warn(\"Trying to estimate tuning from empty frequency set.\")\n"
          ]
        },
        {
          "output_type": "stream",
          "name": "stdout",
          "text": [
            "Extracting /content/drive/MyDrive/Water dataset/Leak/1.2.04.0415.wav\n",
            "Extracting /content/drive/MyDrive/Water dataset/Leak/1.3.01.0330.wav\n",
            "Extracting /content/drive/MyDrive/Water dataset/Leak/1.3.03.0400.wav\n",
            "Extracting /content/drive/MyDrive/Water dataset/Leak/1.3.02.0345.wav\n",
            "Extracting /content/drive/MyDrive/Water dataset/Leak/1.3.04.0415.wav\n",
            "Extracting /content/drive/MyDrive/Water dataset/Leak/1.4.02.0345.wav\n",
            "Extracting /content/drive/MyDrive/Water dataset/Leak/1.4.01.0330.wav\n",
            "Extracting /content/drive/MyDrive/Water dataset/Leak/1.4.03.0400.wav\n",
            "Extracting /content/drive/MyDrive/Water dataset/Leak/1.4.04.0415.wav\n",
            "Extracting /content/drive/MyDrive/Water dataset/Leak/1.5.02.0345.wav\n",
            "Extracting /content/drive/MyDrive/Water dataset/Leak/1.5.03.0400.wav\n",
            "Extracting /content/drive/MyDrive/Water dataset/Leak/1.5.01.0330.wav\n",
            "Extracting /content/drive/MyDrive/Water dataset/Leak/1.5.04.0415.wav\n",
            "Extracting /content/drive/MyDrive/Water dataset/Leak/1.6.01.0330.wav\n",
            "Extracting /content/drive/MyDrive/Water dataset/Leak/1.6.02.0345.wav\n",
            "Extracting /content/drive/MyDrive/Water dataset/Leak/1.6.03.0400.wav\n",
            "Extracting /content/drive/MyDrive/Water dataset/Leak/1.6.04.0415.wav\n",
            "Extracting /content/drive/MyDrive/Water dataset/Leak/1.7.01.0330.wav\n",
            "Extracting /content/drive/MyDrive/Water dataset/Leak/1.7.02.0345.wav\n",
            "Extracting /content/drive/MyDrive/Water dataset/Leak/1.7.04.0415.wav\n",
            "Extracting /content/drive/MyDrive/Water dataset/Leak/172496_20201121_0330.wav\n",
            "Extracting /content/drive/MyDrive/Water dataset/Leak/172499_20201015_0330.wav\n",
            "Extracting /content/drive/MyDrive/Water dataset/Leak/172499_20201015_0345.wav\n",
            "Extracting /content/drive/MyDrive/Water dataset/Leak/172500_20201121_0330.wav\n",
            "Extracting /content/drive/MyDrive/Water dataset/Leak/172500_20201121_0345.wav\n",
            "Extracting /content/drive/MyDrive/Water dataset/Leak/172502_20201015_0330.wav\n",
            "Extracting /content/drive/MyDrive/Water dataset/Leak/1.7.03.0400.wav\n",
            "Extracting /content/drive/MyDrive/Water dataset/Leak/172502_20201015_0345.wav\n",
            "Extracting /content/drive/MyDrive/Water dataset/Leak/172496_20201121_0345.wav\n",
            "Extracting /content/drive/MyDrive/Water dataset/Leak/3.1.02.0345.wav\n",
            "Extracting /content/drive/MyDrive/Water dataset/Leak/3.1.03.0400.wav\n",
            "Extracting /content/drive/MyDrive/Water dataset/Leak/3.2.01.0330.wav\n",
            "Extracting /content/drive/MyDrive/Water dataset/Leak/3.2.03.0400.wav\n",
            "Extracting /content/drive/MyDrive/Water dataset/Leak/3.2.04.0415.wav\n",
            "Extracting /content/drive/MyDrive/Water dataset/Leak/3.3.01.0330.wav\n",
            "Extracting /content/drive/MyDrive/Water dataset/Leak/3.3.02.0345.wav\n",
            "Extracting /content/drive/MyDrive/Water dataset/Leak/3.1.01.0330.wav\n",
            "Extracting /content/drive/MyDrive/Water dataset/Leak/3.3.03.0400.wav\n",
            "Extracting /content/drive/MyDrive/Water dataset/Leak/3.1.04.0415.wav\n",
            "Extracting /content/drive/MyDrive/Water dataset/Leak/3.3.04.0415.wav\n",
            "Extracting /content/drive/MyDrive/Water dataset/Leak/3.2.02.0345.wav\n",
            "extract Leak features done\n",
            "Extracting /content/drive/MyDrive/Water dataset/Non-Leak/2.7.05.2200.wav\n",
            "Extracting /content/drive/MyDrive/Water dataset/Non-Leak/2.1.01.0330.wav\n",
            "Extracting /content/drive/MyDrive/Water dataset/Non-Leak/2.2.05.0430.wav\n",
            "Extracting /content/drive/MyDrive/Water dataset/Non-Leak/2.8.04.2100.wav\n",
            "Extracting /content/drive/MyDrive/Water dataset/Non-Leak/2.2.04.0415.wav\n",
            "Extracting /content/drive/MyDrive/Water dataset/Non-Leak/2.6.02.0730.wav\n",
            "Extracting /content/drive/MyDrive/Water dataset/Non-Leak/2.7.04.2100.wav\n",
            "Extracting /content/drive/MyDrive/Water dataset/Non-Leak/2.1.03.0400.wav\n",
            "Extracting /content/drive/MyDrive/Water dataset/Non-Leak/2.2.01.0330.wav\n",
            "Extracting /content/drive/MyDrive/Water dataset/Non-Leak/2.4.05.0430.wav\n",
            "Extracting /content/drive/MyDrive/Water dataset/Non-Leak/2.3.02.0345.wav\n",
            "Extracting /content/drive/MyDrive/Water dataset/Non-Leak/2.1.02.0345.wav\n",
            "Extracting /content/drive/MyDrive/Water dataset/Non-Leak/2.8.01.1800.wav\n",
            "Extracting /content/drive/MyDrive/Water dataset/Non-Leak/2.3.04.0415.wav\n",
            "Extracting /content/drive/MyDrive/Water dataset/Non-Leak/2.8.03.2000.wav\n",
            "Extracting /content/drive/MyDrive/Water dataset/Non-Leak/2.6.04.0930.wav\n",
            "Extracting /content/drive/MyDrive/Water dataset/Non-Leak/2.6.03.0830.wav\n",
            "Extracting /content/drive/MyDrive/Water dataset/Non-Leak/2.7.03.2000.wav\n",
            "Extracting /content/drive/MyDrive/Water dataset/Non-Leak/2.2.03.0400.wav\n",
            "Extracting /content/drive/MyDrive/Water dataset/Non-Leak/2.5.03.0830.wav\n",
            "Extracting /content/drive/MyDrive/Water dataset/Non-Leak/2.8.02.1900.wav\n",
            "Extracting /content/drive/MyDrive/Water dataset/Non-Leak/2.3.01.0330.wav\n",
            "Extracting /content/drive/MyDrive/Water dataset/Non-Leak/2.3.03.0400.wav\n",
            "Extracting /content/drive/MyDrive/Water dataset/Non-Leak/2.3.05.0430.wav\n",
            "Extracting /content/drive/MyDrive/Water dataset/Non-Leak/2.5.05.1030.wav\n",
            "Extracting /content/drive/MyDrive/Water dataset/Non-Leak/2.7.02.1900.wav\n",
            "Extracting /content/drive/MyDrive/Water dataset/Non-Leak/2.1.05.0430.wav\n",
            "Extracting /content/drive/MyDrive/Water dataset/Non-Leak/2.1.04.0415.wav\n",
            "Extracting /content/drive/MyDrive/Water dataset/Non-Leak/2.4.03.0400.wav\n",
            "Extracting /content/drive/MyDrive/Water dataset/Non-Leak/2.5.02.0730.wav\n",
            "Extracting /content/drive/MyDrive/Water dataset/Non-Leak/2.6.05.1030.wav\n",
            "Extracting /content/drive/MyDrive/Water dataset/Non-Leak/2.2.02.0345.wav\n",
            "Extracting /content/drive/MyDrive/Water dataset/Non-Leak/2.4.01.0330.wav\n",
            "Extracting /content/drive/MyDrive/Water dataset/Non-Leak/2.5.01.0630.wav\n",
            "Extracting /content/drive/MyDrive/Water dataset/Non-Leak/2.4.04.0415.wav\n",
            "Extracting /content/drive/MyDrive/Water dataset/Non-Leak/2.8.05.2200.wav\n",
            "Extracting /content/drive/MyDrive/Water dataset/Non-Leak/2.6.01.0630.wav\n",
            "Extracting /content/drive/MyDrive/Water dataset/Non-Leak/2.4.02.0345.wav\n",
            "Extracting /content/drive/MyDrive/Water dataset/Non-Leak/2.7.01.1800.wav\n",
            "Extracting /content/drive/MyDrive/Water dataset/Non-Leak/2.5.04.0930.wav\n",
            "Extracting /content/drive/MyDrive/Water dataset/Non-Leak/05553_20190417_1145.wav\n",
            "Extracting /content/drive/MyDrive/Water dataset/Non-Leak/00540_20210422_0415.wav\n",
            "Extracting /content/drive/MyDrive/Water dataset/Non-Leak/05540_20200810_1145.wav\n",
            "Extracting /content/drive/MyDrive/Water dataset/Non-Leak/00241_20180818_1445.wav\n",
            "Extracting /content/drive/MyDrive/Water dataset/Non-Leak/05540_20200725_1145.wav\n",
            "Extracting /content/drive/MyDrive/Water dataset/Non-Leak/00241_20190306_1445.wav\n",
            "Extracting /content/drive/MyDrive/Water dataset/Non-Leak/07550_20170610_1145.wav\n",
            "Extracting /content/drive/MyDrive/Water dataset/Non-Leak/05553_20190213_1145.wav\n",
            "Extracting /content/drive/MyDrive/Water dataset/Non-Leak/05574_20170725_1145.wav\n",
            "Extracting /content/drive/MyDrive/Water dataset/Non-Leak/07550_20170609_1145.wav\n",
            "Extracting /content/drive/MyDrive/Water dataset/Non-Leak/05574_20201020_1145.wav\n",
            "Extracting /content/drive/MyDrive/Water dataset/Non-Leak/05574_20180427_1145.wav\n",
            "Extracting /content/drive/MyDrive/Water dataset/Non-Leak/05574_20181002_1145.wav\n",
            "Extracting /content/drive/MyDrive/Water dataset/Non-Leak/05574_20190408_1248.wav\n",
            "Extracting /content/drive/MyDrive/Water dataset/Non-Leak/05574_20181004_1145.wav\n",
            "Extracting /content/drive/MyDrive/Water dataset/Non-Leak/05574_20170713_1145.wav\n",
            "Extracting /content/drive/MyDrive/Water dataset/Non-Leak/07645_20170513_1145.wav\n",
            "Extracting /content/drive/MyDrive/Water dataset/Non-Leak/07645_20170429_1145.wav\n",
            "Extracting /content/drive/MyDrive/Water dataset/Non-Leak/05574_20171028_1145.wav\n",
            "Extracting /content/drive/MyDrive/Water dataset/Non-Leak/05574_20180814_1145.wav\n",
            "Extracting /content/drive/MyDrive/Water dataset/Non-Leak/07642_20190122_1145.wav\n",
            "Extracting /content/drive/MyDrive/Water dataset/Non-Leak/12846-20200902-1145.wav\n",
            "Extracting /content/drive/MyDrive/Water dataset/Non-Leak/00540_20210422_0400.wav\n",
            "Extracting /content/drive/MyDrive/Water dataset/Non-Leak/05574_20170703_1145.wav\n",
            "Extracting /content/drive/MyDrive/Water dataset/Non-Leak/05574_20200326_1538.wav\n",
            "Extracting /content/drive/MyDrive/Water dataset/Non-Leak/05574_20180710_1145.wav\n",
            "Extracting /content/drive/MyDrive/Water dataset/Non-Leak/07642_20190114_1145.wav\n",
            "Extracting /content/drive/MyDrive/Water dataset/Non-Leak/05574_20181103_1145.wav\n",
            "Extracting /content/drive/MyDrive/Water dataset/Non-Leak/12865_20200902_1145.wav\n",
            "Extracting /content/drive/MyDrive/Water dataset/Non-Leak/05574_20180613_1145.wav\n",
            "extract Non-Leak features done\n"
          ]
        },
        {
          "output_type": "stream",
          "name": "stderr",
          "text": [
            "/usr/local/lib/python3.7/dist-packages/ipykernel_launcher.py:17: DeprecationWarning: `np.int` is a deprecated alias for the builtin `int`. To silence this warning, use `int` by itself. Doing this will not modify any behavior and is safe. When replacing `np.int`, you may wish to use e.g. `np.int64` or `np.int32` to specify the precision. If you wish to review your current use, check the release note link for additional information.\n",
            "Deprecated in NumPy 1.20; for more details and guidance: https://numpy.org/devdocs/release/1.20.0-notes.html#deprecations\n"
          ]
        }
      ]
    },
    {
      "cell_type": "code",
      "source": [
        "import numpy as np\n",
        "import sklearn\n",
        "from sklearn.svm import SVC\n",
        "from sklearn.model_selection import train_test_split\n",
        "from sklearn.model_selection import GridSearchCV\n",
        "from sklearn.metrics import classification_report\n",
        "\n",
        "# Load data from numpy file\n",
        "X =  np.load('/content/input.npy')\n",
        "y =  np.load('/content/target.npy').ravel()\n",
        "X\n"
      ],
      "metadata": {
        "id": "XjygppBL5smG",
        "colab": {
          "base_uri": "https://localhost:8080/"
        },
        "outputId": "aa938465-0896-4e8f-fdce-db638d087faf"
      },
      "execution_count": null,
      "outputs": [
        {
          "output_type": "execute_result",
          "data": {
            "text/plain": [
              "array([[-3.18695770e+02,  2.83387890e+01, -1.77697983e+02, ...,\n",
              "        -7.61210736e-02,  5.94400751e-02, -3.05595007e-02],\n",
              "       [-2.16284351e+01,  1.71329403e+01, -3.45241776e+01, ...,\n",
              "         1.01562794e-01,  4.85737379e-02,  2.55348789e-02],\n",
              "       [ 6.95381451e+00, -1.09342461e+01, -2.20756149e+01, ...,\n",
              "        -1.04761159e-02, -9.46627314e-04, -5.16663350e-03],\n",
              "       ...,\n",
              "       [-2.20766357e+02,  1.73623352e+02, -4.67773666e+01, ...,\n",
              "        -7.99292337e-02,  4.22067423e-02,  1.18409494e-02],\n",
              "       [-4.36167450e+02,  1.43225372e+02,  2.67685375e+01, ...,\n",
              "        -3.74222683e-01, -8.13948942e-02, -9.98220378e-02],\n",
              "       [-1.29109589e+02,  1.21003771e+01, -3.20790100e+00, ...,\n",
              "         4.57616869e-03, -1.81263589e-02, -1.62245667e-02]])"
            ]
          },
          "metadata": {},
          "execution_count": 9
        }
      ]
    },
    {
      "cell_type": "code",
      "source": [
        "# Split data into training and test subsets\n",
        "X_train, X_test, y_train, y_test = train_test_split(X, y, test_size=0.3, random_state=0)\n",
        "\n",
        "# Simple SVM\n",
        "print('SVM model has started fitting ')\n",
        "clf = SVC(C=5.0, gamma=0.0001,verbose = 1)\n",
        "# clf = SVC(kernel='linear', random_state=32)\n",
        "clf.fit(X_train, y_train)\n",
        "acc = clf.score(X_test, y_test)\n",
        "print(\"acc=%0.4f\" % acc)"
      ],
      "metadata": {
        "id": "cAru2Klx6QsN",
        "colab": {
          "base_uri": "https://localhost:8080/"
        },
        "outputId": "90fbc3f0-a231-4789-b0c6-d67cf002da24"
      },
      "execution_count": null,
      "outputs": [
        {
          "output_type": "stream",
          "name": "stdout",
          "text": [
            "SVM model has started fitting \n",
            "[LibSVM]acc=0.8571\n"
          ]
        }
      ]
    },
    {
      "cell_type": "code",
      "source": [
        ""
      ],
      "metadata": {
        "id": "HDGOiu-A-gdu"
      },
      "execution_count": null,
      "outputs": []
    }
  ]
}